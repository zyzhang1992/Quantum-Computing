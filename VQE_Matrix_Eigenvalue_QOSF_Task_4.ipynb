{
  "nbformat": 4,
  "nbformat_minor": 0,
  "metadata": {
    "kernelspec": {
      "display_name": "Python 3",
      "language": "python",
      "name": "python3"
    },
    "language_info": {
      "codemirror_mode": {
        "name": "ipython",
        "version": 3
      },
      "file_extension": ".py",
      "mimetype": "text/x-python",
      "name": "python",
      "nbconvert_exporter": "python",
      "pygments_lexer": "ipython3",
      "version": "3.7.8"
    },
    "colab": {
      "name": "VQE Matrix Eigenvalue QOSF Task 4.ipynb",
      "provenance": [],
      "include_colab_link": true
    }
  },
  "cells": [
    {
      "cell_type": "markdown",
      "metadata": {
        "id": "view-in-github",
        "colab_type": "text"
      },
      "source": [
        "<a href=\"https://colab.research.google.com/github/zyzhang1992/Quantum-Computing/blob/master/VQE_Matrix_Eigenvalue_QOSF_Task_4.ipynb\" target=\"_parent\"><img src=\"https://colab.research.google.com/assets/colab-badge.svg\" alt=\"Open In Colab\"/></a>"
      ]
    },
    {
      "cell_type": "code",
      "metadata": {
        "id": "gyH0woRd-BSk",
        "colab_type": "code",
        "colab": {}
      },
      "source": [
        "'''\n",
        "This note book implements the VQE approach for calculating the lower bounds of a symetrical matrix. \n",
        "The matrix is first decomposed in the basis of direct products of Pauli matrices to obtain the \n",
        "Hamiltonian for simulation. The decomposition uses the Hilbert-Schmidt-Product approach. \n",
        "\n",
        "The implementation includes both simulation on a quantum simulator and actually running on a IBM Q \n",
        "quantun device.  \n",
        "'''"
      ],
      "execution_count": null,
      "outputs": []
    },
    {
      "cell_type": "code",
      "metadata": {
        "id": "lPR_PO-z-BSv",
        "colab_type": "code",
        "colab": {},
        "outputId": "efde9d48-f410-40f3-bea1-f79835765221"
      },
      "source": [
        "%matplotlib inline\n",
        "# Importing standard Qiskit libraries and configuring account\n",
        "from qiskit import QuantumCircuit, execute, Aer, IBMQ\n",
        "from qiskit.compiler import transpile, assemble\n",
        "from qiskit.tools.jupyter import *\n",
        "from qiskit.visualization import *\n",
        "# Loading your IBM Q account(s)\n",
        "provider = IBMQ.load_account()"
      ],
      "execution_count": null,
      "outputs": [
        {
          "output_type": "stream",
          "text": [
            "/opt/conda/lib/python3.7/site-packages/qiskit/providers/ibmq/ibmqfactory.py:192: UserWarning: Timestamps in IBMQ backend properties, jobs, and job results are all now in local time instead of UTC.\n",
            "  warnings.warn('Timestamps in IBMQ backend properties, jobs, and job results '\n",
            "ibmqfactory.load_account:WARNING:2020-09-24 17:17:06,081: Credentials are already in use. The existing account in the session will be replaced.\n"
          ],
          "name": "stderr"
        }
      ]
    },
    {
      "cell_type": "code",
      "metadata": {
        "id": "G0G6ssZx-BS7",
        "colab_type": "code",
        "colab": {}
      },
      "source": [
        "import matplotlib.pyplot as plt"
      ],
      "execution_count": null,
      "outputs": []
    },
    {
      "cell_type": "code",
      "metadata": {
        "id": "ilfr-Pui-BTH",
        "colab_type": "code",
        "colab": {}
      },
      "source": [
        "import numpy as np\n",
        "\n",
        "def HS(M1, M2):\n",
        "    \"\"\"Hilbert-Schmidt-Product of two matrices M1, M2\"\"\"\n",
        "    return (np.dot(M1.conjugate().transpose(), M2)).trace()\n",
        "\n",
        "def c2s(c):\n",
        "    \"\"\"Return a string representation of a complex number c\"\"\"\n",
        "    if c == 0.0:\n",
        "        return f\"0\"\n",
        "    if c.imag == 0:\n",
        "        # return \"%g\" % c.real\n",
        "        return f\"{c.real}\"\n",
        "    elif c.real == 0:\n",
        "        # return \"%gj\" % c.imag\n",
        "        return f\"{c.img:g}j\"\n",
        "    else:\n",
        "        # return \"%g+%gj\" % (c.real, c.imag)\n",
        "        return f\"{c.real:g}+{c.imag:g}j\""
      ],
      "execution_count": null,
      "outputs": []
    },
    {
      "cell_type": "code",
      "metadata": {
        "id": "S9sp0DhC-BTS",
        "colab_type": "code",
        "colab": {}
      },
      "source": [
        "def decompose(H):\n",
        "    \"\"\"Decompose Hermitian 4x4 matrix H into Pauli matrices\"\"\"\n",
        "    from numpy import kron\n",
        "    sx = np.array([[0, 1],  [ 1, 0]], dtype=np.complex128)\n",
        "    sy = np.array([[0, -1j],[1j, 0]], dtype=np.complex128)\n",
        "    sz = np.array([[1, 0],  [0, -1]], dtype=np.complex128)\n",
        "    id = np.array([[1, 0],  [ 0, 1]], dtype=np.complex128)\n",
        "    S = [id, sx, sy, sz]\n",
        "    labels = ['I', 'X', 'Y', 'Z']\n",
        "    for i in range(4):\n",
        "        for j in range(4):\n",
        "            label = labels[i] + labels[j]\n",
        "            a_ij = 0.25 * HS(kron(S[i], S[j]), H)\n",
        "            if a_ij != 0.0:\n",
        "                # print \"%s\\t*\\t(%s)\" % (c2s(a_ij), label)\n",
        "                print (f'{c2s(a_ij)}{label}')"
      ],
      "execution_count": null,
      "outputs": []
    },
    {
      "cell_type": "code",
      "metadata": {
        "id": "m3vwD0uv-BTc",
        "colab_type": "code",
        "colab": {}
      },
      "source": [
        "M = np.array([[1, 0, 0, 0], \n",
        "            [0, 0, -1, 0],\n",
        "            [0, -1, 0, 0],\n",
        "            [0, 0, 0, 1]], dtype = np. complex128)"
      ],
      "execution_count": null,
      "outputs": []
    },
    {
      "cell_type": "code",
      "metadata": {
        "id": "1-y9qMnF-BT1",
        "colab_type": "code",
        "colab": {},
        "outputId": "24a35ed0-99aa-4047-a5b7-bcfec2ae5757"
      },
      "source": [
        "decompose(M)"
      ],
      "execution_count": null,
      "outputs": [
        {
          "output_type": "stream",
          "text": [
            "0.5II\n",
            "-0.5XX\n",
            "-0.5YY\n",
            "0.5ZZ\n"
          ],
          "name": "stdout"
        }
      ]
    },
    {
      "cell_type": "code",
      "metadata": {
        "id": "oESI6feH-BUM",
        "colab_type": "code",
        "colab": {},
        "outputId": "c63ca4b0-97d4-4a0c-868b-bb998c195699"
      },
      "source": [
        "#\n",
        "# this tests the construction of quantum circuit for an ansatz for the XX term in the Hamiltonian\n",
        "#\n",
        "theta = 2.8903\n",
        "qc = QuantumCircuit(2)\n",
        "qc.h(0)\n",
        "qc.cx(0, 1)\n",
        "qc.rx(theta, 0)\n",
        "#\n",
        "# measurement for XX term\n",
        "#\n",
        "qc.h(0)\n",
        "qc.h(1)\n",
        "qc.measure_all()\n",
        "\n",
        "qc.draw()"
      ],
      "execution_count": null,
      "outputs": [
        {
          "output_type": "execute_result",
          "data": {
            "image/png": "[encoded data removed]",
            "text/plain": [
              "<Figure size 592.459x204.68 with 1 Axes>"
            ]
          },
          "metadata": {
            "tags": []
          },
          "execution_count": 75
        }
      ]
    },
    {
      "cell_type": "code",
      "metadata": {
        "id": "e_xNNCcs-BUl",
        "colab_type": "code",
        "colab": {}
      },
      "source": [
        "def VQE_ansatz(hterm, theta):\n",
        "\n",
        "    # construct the quantum circuit of the variatinal wave function \n",
        "    # for a given variational parameter theta \n",
        "    qc = QuantumCircuit(2)\n",
        "    qc.h(0)\n",
        "    qc.cx(0,1)\n",
        "    qc.rx(theta,0)\n",
        "    # qc.x(1)\n",
        "    \n",
        "    if hterm == 1:\n",
        "        # XX component, the circuit is tranformed to the XX basis first\n",
        "        qc.h(0)\n",
        "        qc.h(1)\n",
        "    elif hterm == 2:\n",
        "        # YY component, the circuit is tranformed to the YY basis first\n",
        "        qc.sdg(0)\n",
        "        qc.h(0)\n",
        "        qc.sdg(1)\n",
        "        qc.h(1)\n",
        "    # for ZZ term (hterm = 3), no transformation is needed. \n",
        "    \n",
        "    # now construct the circuit for measurement in the 0 and 1 qubits\n",
        "    qc.measure_all()\n",
        "    \n",
        "    return qc"
      ],
      "execution_count": null,
      "outputs": []
    },
    {
      "cell_type": "code",
      "metadata": {
        "id": "itS5cb0b-BUy",
        "colab_type": "code",
        "colab": {}
      },
      "source": [
        "def VQE_energy(qc, backend, nshots):\n",
        "    result = execute(qc, backend = back_end, shots = nshots).result()\n",
        "    counts = result.get_counts().items()\n",
        "    # print(xresult)\n",
        "    \n",
        "    result_sum = 0\n",
        "    for key, count in counts:\n",
        "        result_sum += (-1) ** (int(key[0]) + int(key[1])) * count\n",
        "    #print(result_sum)\n",
        "    \n",
        "    # return the results normalized with the number of shorts. \n",
        "    return result_sum/nshots"
      ],
      "execution_count": null,
      "outputs": []
    },
    {
      "cell_type": "code",
      "metadata": {
        "id": "kRy7g0ox-BU-",
        "colab_type": "code",
        "colab": {},
        "outputId": "ef2ed892-bc6d-41bb-fd12-b99d53691f75"
      },
      "source": [
        "#\n",
        "# This tests the execution of measurement of the XX component of the Hamiltonian\n",
        "#\n",
        "nshots = 2 ** 10\n",
        "theta = 1.8903\n",
        "back_end = Aer.get_backend('qasm_simulator')\n",
        "# expectation value of XX\n",
        "xx_qc = VQE_ansatz(hterm = 1, theta = theta)\n",
        "result = execute(xx_qc, backend = back_end, shots = nshots).result()\n",
        "counts = result.get_counts().items()\n",
        "print(f'The measured counts are: {counts}')\n",
        "    \n",
        "result_sum = 0\n",
        "for key, count in counts:\n",
        "    result_sum += (-1) ** (int(key[0]) + int(key[1])) * count\n",
        "#print(result_sum)\n",
        "print(f\"The normalized measurement is: {result_sum/nshots}\")\n",
        "xx_qc.draw()"
      ],
      "execution_count": null,
      "outputs": [
        {
          "output_type": "stream",
          "text": [
            "The measured counts are: dict_items([('00', 539), ('11', 485)])\n",
            "The normalized measurement is: 1.0\n"
          ],
          "name": "stdout"
        },
        {
          "output_type": "execute_result",
          "data": {
            "image/png": "[encoded data removed]",
            "text/plain": [
              "<Figure size 592.459x204.68 with 1 Axes>"
            ]
          },
          "metadata": {
            "tags": []
          },
          "execution_count": 79
        }
      ]
    },
    {
      "cell_type": "code",
      "metadata": {
        "id": "8zS5ZqEx-BVI",
        "colab_type": "code",
        "colab": {},
        "outputId": "3e4025ec-b700-4e5e-f7cc-eaf818c3c42f"
      },
      "source": [
        "#\n",
        "# This tests the VQE_ansatz and VQE_energy functions\n",
        "#\n",
        "theta = 1.8903\n",
        "back_end = Aer.get_backend('qasm_simulator')\n",
        "nshots = 2 ** 10\n",
        "# expectation value of XX\n",
        "xx_qc = VQE_ansatz(hterm = 1, theta = theta)\n",
        "result = VQE_energy(qc = xx_qc, backend = back_end, nshots = nshots)\n",
        "\n",
        "print(f\"The normalized measurement is: {result}\")\n",
        "xx_qc.draw()"
      ],
      "execution_count": null,
      "outputs": [
        {
          "output_type": "stream",
          "text": [
            "The normalized measurement is: 1.0\n"
          ],
          "name": "stdout"
        },
        {
          "output_type": "execute_result",
          "data": {
            "image/png": "[encoded data removed]",
            "text/plain": [
              "<Figure size 592.459x204.68 with 1 Axes>"
            ]
          },
          "metadata": {
            "tags": []
          },
          "execution_count": 80
        }
      ]
    },
    {
      "cell_type": "code",
      "metadata": {
        "id": "QzBcOr8u-BVY",
        "colab_type": "code",
        "colab": {}
      },
      "source": [
        "# The rotational angle will be scanned from 0 to Pi, with a step size of Pi/nsteps. \n",
        "# at each step, a quantum circuit of 2 qubits and 2 classcial bits are formed and \n",
        "\n",
        "nsteps = 100     #\n",
        "nshots = 2 ** 10 # the number of shots used in the mesaurement of the quantum circuit.  \n",
        "back_end = Aer.get_backend('qasm_simulator') # get the device backend, Use the simulator\n",
        "\n",
        "'''\n",
        "The Hamiltonian for the simulation is obtained by decomposing the matrix to the basis formed by the \n",
        "direct products of the single qubit Pauli matricies X Y Z and I, as shown previously: \n",
        "    \n",
        "M = (1/2)*(-XX - YY + ZZ + II)\n",
        "\n",
        "To use VQE to obtain the eigen values, a parameterized ansatz is first contructed with the operation \n",
        "of h(0), Cx(0,1), and Rx(theta) on the initial qubit function of |00>: (Rx(theta)I)(Cx(0,1))(h(0)I)|00>. \n",
        "The expectation values for the three terms XX, YY, ZZ are computed by measurement of the operators in the \n",
        "computational basis. X and Y is tranformed to the computational basis with h and sdg respectively. \n",
        "The function VQE_ansatz construct the measurement circuit for each of the three operators and VQE_enegy \n",
        "actually execute the circuit, either on a simulator or a real quamtumn device at IBM Q, to onbtaint the \n",
        "output. \n",
        "    \n",
        "'''\n",
        "\n",
        "E   = np.zeros(nsteps)\n",
        "Exx = np.zeros(nsteps)\n",
        "Eyy = np.zeros(nsteps)\n",
        "Ezz = np.zeros(nsteps)\n",
        "Theta = np.zeros(nsteps)\n",
        "# nsteps = 4\n",
        "for i in range(nsteps):\n",
        "    \n",
        "    theta = (2 * np.pi / nsteps) * (i + 1)\n",
        "    Theta[i] = theta\n",
        "    \n",
        "    xx_qc = VQE_ansatz(hterm = 1, theta = theta)\n",
        "    Exx[i] = VQE_energy(qc = xx_qc, backend = back_end, nshots=nshots)\n",
        "    \n",
        "    yy_qc = VQE_ansatz(hterm = 2, theta = theta)\n",
        "    Eyy[i] = VQE_energy(qc = yy_qc, backend = back_end, nshots=nshots)\n",
        "    \n",
        "    zz_qc = VQE_ansatz(hterm = 3, theta = theta)\n",
        "    Ezz[i] = VQE_energy(qc = zz_qc, backend = back_end, nshots=nshots)\n",
        "    \n",
        "E = (-Exx - Eyy + Ezz + 1)"
      ],
      "execution_count": null,
      "outputs": []
    },
    {
      "cell_type": "code",
      "metadata": {
        "scrolled": true,
        "id": "dsO1WsCR-BVp",
        "colab_type": "code",
        "colab": {},
        "outputId": "955a60aa-124c-4dec-efe9-5c77f130ff37"
      },
      "source": [
        "plt.title('Expectation value as a function of angle, classical result')\n",
        "plt.ylabel(f'Energy with number of measurements {nshots}')\n",
        "plt.xlabel('variational parameter, Theta')\n",
        "plt.plot(Theta,E,   label=f'E')\n",
        "plt.plot(Theta,Exx, label=f'Exx')\n",
        "plt.plot(Theta,Eyy, label=f'Eyy')\n",
        "plt.plot(Theta,Ezz, label=f'Ezz')\n",
        "plt.legend()\n",
        "plt.show()\n",
        "\n",
        "print(f'The lower bound to the eigenvalue is {min(E):.4f} '\n",
        "      f'at a rotational angle of {Theta[np.argmin(E)]:.4f}')"
      ],
      "execution_count": null,
      "outputs": [
        {
          "output_type": "display_data",
          "data": {
            "image/png": "[encoded data removed]",
            "text/plain": [
              "<Figure size 432x288 with 1 Axes>"
            ]
          },
          "metadata": {
            "tags": [],
            "needs_background": "light"
          }
        },
        {
          "output_type": "stream",
          "text": [
            "The lower bound to the eigenvalue is -2.0000 at a rotational angle of 3.1416\n"
          ],
          "name": "stdout"
        }
      ]
    },
    {
      "cell_type": "code",
      "metadata": {
        "id": "OqvO9q0U-BV3",
        "colab_type": "code",
        "colab": {},
        "outputId": "6ddc8e42-745f-4fa0-ec6d-ba1d770213bc"
      },
      "source": [
        "#\n",
        "# Choose an IBM Q provider device \n",
        "#\n",
        "# IBMQ.providers()\n",
        "provider = IBMQ.get_provider(hub='ibm-q')\n",
        "provider.backends()"
      ],
      "execution_count": null,
      "outputs": [
        {
          "output_type": "execute_result",
          "data": {
            "text/plain": [
              "[<IBMQSimulator('ibmq_qasm_simulator') from IBMQ(hub='ibm-q', group='open', project='main')>,\n",
              " <IBMQBackend('ibmqx2') from IBMQ(hub='ibm-q', group='open', project='main')>,\n",
              " <IBMQBackend('ibmq_16_melbourne') from IBMQ(hub='ibm-q', group='open', project='main')>,\n",
              " <IBMQBackend('ibmq_vigo') from IBMQ(hub='ibm-q', group='open', project='main')>,\n",
              " <IBMQBackend('ibmq_ourense') from IBMQ(hub='ibm-q', group='open', project='main')>,\n",
              " <IBMQBackend('ibmq_valencia') from IBMQ(hub='ibm-q', group='open', project='main')>,\n",
              " <IBMQBackend('ibmq_london') from IBMQ(hub='ibm-q', group='open', project='main')>,\n",
              " <IBMQBackend('ibmq_burlington') from IBMQ(hub='ibm-q', group='open', project='main')>,\n",
              " <IBMQBackend('ibmq_essex') from IBMQ(hub='ibm-q', group='open', project='main')>,\n",
              " <IBMQBackend('ibmq_armonk') from IBMQ(hub='ibm-q', group='open', project='main')>,\n",
              " <IBMQBackend('ibmq_santiago') from IBMQ(hub='ibm-q', group='open', project='main')>]"
            ]
          },
          "metadata": {
            "tags": []
          },
          "execution_count": 107
        }
      ]
    },
    {
      "cell_type": "code",
      "metadata": {
        "id": "9Iq16V62-BWK",
        "colab_type": "code",
        "colab": {},
        "outputId": "fd3a58a9-3baf-4fce-f941-2265fe309975"
      },
      "source": [
        "available_devices = provider.backends(filters=lambda x: x.configuration().n_qubits >= 2\n",
        "                                    and not x.configuration().simulator\n",
        "                                    and x.status().operational==True)\n",
        "available_devices"
      ],
      "execution_count": null,
      "outputs": [
        {
          "output_type": "execute_result",
          "data": {
            "text/plain": [
              "[<IBMQBackend('ibmqx2') from IBMQ(hub='ibm-q', group='open', project='main')>,\n",
              " <IBMQBackend('ibmq_16_melbourne') from IBMQ(hub='ibm-q', group='open', project='main')>,\n",
              " <IBMQBackend('ibmq_vigo') from IBMQ(hub='ibm-q', group='open', project='main')>,\n",
              " <IBMQBackend('ibmq_ourense') from IBMQ(hub='ibm-q', group='open', project='main')>,\n",
              " <IBMQBackend('ibmq_valencia') from IBMQ(hub='ibm-q', group='open', project='main')>,\n",
              " <IBMQBackend('ibmq_santiago') from IBMQ(hub='ibm-q', group='open', project='main')>]"
            ]
          },
          "metadata": {
            "tags": []
          },
          "execution_count": 110
        }
      ]
    },
    {
      "cell_type": "code",
      "metadata": {
        "id": "anZVZbrW-BWZ",
        "colab_type": "code",
        "colab": {
          "referenced_widgets": [
            "71d82c53ea994c339e62bac715109239"
          ]
        },
        "outputId": "0169a67e-ca5d-45b7-ae81-25f75b09e359"
      },
      "source": [
        "from qiskit.providers.ibmq import least_busy\n",
        "backend = least_busy(available_devices)"
      ],
      "execution_count": null,
      "outputs": [
        {
          "output_type": "display_data",
          "data": {
            "application/vnd.jupyter.widget-view+json": {
              "model_id": "71d82c53ea994c339e62bac715109239",
              "version_major": 2,
              "version_minor": 0
            },
            "text/plain": [
              "VBox(children=(HTML(value=\"<h1 style='color:#ffffff;background-color:#000000;padding-top: 1%;padding-bottom: 1…"
            ]
          },
          "metadata": {
            "tags": []
          }
        },
        {
          "output_type": "execute_result",
          "data": {
            "text/plain": [
              "<IBMQBackend('ibmq_16_melbourne') from IBMQ(hub='ibm-q', group='open', project='main')>"
            ]
          },
          "metadata": {
            "tags": []
          },
          "execution_count": 116
        }
      ]
    },
    {
      "cell_type": "code",
      "metadata": {
        "id": "rZbcdXbT-BWo",
        "colab_type": "code",
        "colab": {},
        "outputId": "dd85c7cb-77ac-4515-a043-5c301775fe16"
      },
      "source": [
        "backend.name()"
      ],
      "execution_count": null,
      "outputs": [
        {
          "output_type": "execute_result",
          "data": {
            "text/plain": [
              "'ibmq_16_melbourne'"
            ]
          },
          "metadata": {
            "tags": []
          },
          "execution_count": 118
        }
      ]
    },
    {
      "cell_type": "code",
      "metadata": {
        "id": "15mZdZGQ-BW5",
        "colab_type": "code",
        "colab": {},
        "outputId": "5a4d47fd-5391-4088-84d7-1984a0dbdce9"
      },
      "source": [
        "#\n",
        "# simulations on IBM Q quantum computers\n",
        "#\n",
        "try: \n",
        "    # back_end = provider.get_backend('ibmq_16_melbourne') #'ibmq_16_melbourne')#'ibmq_essex')\n",
        "    # back_end = provider.get_backend('ibmq_london') #'ibmq_16_melbourne')#'ibmq_essex')\n",
        "    back_end = provider.get_backend(backend.name())\n",
        "except:\n",
        "    # backend = Aer.get_backend('qasm_simulator') # it was 'BasicAer.get_backend' ibmq_16_melbourne\n",
        "    print(\"back end not available\")\n",
        "    \n",
        "coupling_map = back_end.configuration().coupling_map\n",
        "print(coupling_map)"
      ],
      "execution_count": null,
      "outputs": [
        {
          "output_type": "stream",
          "text": [
            "[[0, 1], [0, 14], [1, 0], [1, 2], [1, 13], [2, 1], [2, 3], [2, 12], [3, 2], [3, 4], [3, 11], [4, 3], [4, 5], [4, 10], [5, 4], [5, 6], [5, 9], [6, 5], [6, 8], [7, 8], [8, 6], [8, 7], [8, 9], [9, 5], [9, 8], [9, 10], [10, 4], [10, 9], [10, 11], [11, 3], [11, 10], [11, 12], [12, 2], [12, 11], [12, 13], [13, 1], [13, 12], [13, 14], [14, 0], [14, 13]]\n"
          ],
          "name": "stdout"
        }
      ]
    },
    {
      "cell_type": "code",
      "metadata": {
        "id": "tj5fF4Zk-BXE",
        "colab_type": "code",
        "colab": {},
        "outputId": "605661ae-e41c-4224-85ac-f23f984f0664"
      },
      "source": [
        "back_end.configuration()"
      ],
      "execution_count": null,
      "outputs": [
        {
          "output_type": "execute_result",
          "data": {
            "text/plain": [
              "<qiskit.providers.models.backendconfiguration.QasmBackendConfiguration at 0x7f485e525a50>"
            ]
          },
          "metadata": {
            "tags": []
          },
          "execution_count": 120
        }
      ]
    },
    {
      "cell_type": "code",
      "metadata": {
        "id": "j-qdvI8E-BXP",
        "colab_type": "code",
        "colab": {}
      },
      "source": [
        "#\n",
        "# results from running on the quantum devices at IBM\n",
        "#\n",
        "\n",
        "nsteps = 100     #\n",
        "# nshots = 25\n",
        "nshots = 2 ** 10 # the number of shots used in the mesaurement of the quantum circuit.  \n",
        "#back_end = Aer.get_backend('qasm_simulator') # get the device backend, Use the simulator\n",
        "\n",
        "'''\n",
        "The hamiltonian for the problem that corresponds \n",
        "to our matrix M:\n",
        "    \n",
        "M = (1/2)*(XX+YY+ZZ-II)\n",
        "    \n",
        "The hamiltonian is computed by separating it into three components\n",
        "according to the discussions in the previous cells. \n",
        "'''\n",
        "\n",
        "E = np.zeros(nsteps)\n",
        "Exx = np.zeros(nsteps)\n",
        "Eyy = np.zeros(nsteps)\n",
        "Ezz = np.zeros(nsteps)\n",
        "Theta = np.zeros(nsteps)\n",
        "for i in range(nsteps):\n",
        "    \n",
        "    theta = (2 * np.pi / nsteps) * (i + 1)\n",
        "    Theta[i] = theta\n",
        "    \n",
        "    xx_qc = VQE_ansatz(hterm = 1, theta = theta)\n",
        "    Exx[i] = VQE_energy(qc = xx_qc, backend = back_end, nshots=nshots)\n",
        "    \n",
        "    yy_qc = VQE_ansatz(hterm = 2, theta = theta)\n",
        "    Eyy[i] = VQE_energy(qc = yy_qc, backend = back_end, nshots=nshots)\n",
        "    \n",
        "    zz_qc = VQE_ansatz(hterm = 3, theta = theta)\n",
        "    Ezz[i] = VQE_energy(qc = zz_qc, backend = back_end, nshots=nshots)"
      ],
      "execution_count": null,
      "outputs": []
    },
    {
      "cell_type": "code",
      "metadata": {
        "id": "i7RHC61V-BXc",
        "colab_type": "code",
        "colab": {}
      },
      "source": [
        "E = 1/2 * (-Exx - Eyy + Ezz + 1)"
      ],
      "execution_count": null,
      "outputs": []
    },
    {
      "cell_type": "code",
      "metadata": {
        "id": "5z14qTAv-BXl",
        "colab_type": "code",
        "colab": {}
      },
      "source": [
        "plt.title(f'Expectation value as a function of angle, quamtum result')\n",
        "plt.ylabel(f'Energy with number of measurements {nshots}')\n",
        "plt.xlabel(f'variational parameter, Theta')\n",
        "plt.plot(Theta,E,   label=f'E')\n",
        "plt.plot(Theta,Exx, label=f'Exx')\n",
        "plt.plot(Theta,Eyy, label=f'Eyy')\n",
        "plt.plot(Theta,Ezz, label=f'Ezz')\n",
        "plt.legend()\n",
        "plt.show()\n",
        "\n",
        "print(f'The lower bound to the eigenvalue is {min(E):.4f} '\n",
        "      f'at a rotational angle of {Theta[np.argmin(E)]:.4f}')"
      ],
      "execution_count": null,
      "outputs": []
    },
    {
      "cell_type": "code",
      "metadata": {
        "id": "dZIl1gIb-BXt",
        "colab_type": "code",
        "colab": {}
      },
      "source": [
        ""
      ],
      "execution_count": null,
      "outputs": []
    }
  ]
}